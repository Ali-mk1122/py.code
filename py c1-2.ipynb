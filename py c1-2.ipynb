{
 "cells": [
  {
   "cell_type": "markdown",
   "metadata": {},
   "source": [
    "(*,/,-,+) for integer and float"
   ]
  },
  {
   "cell_type": "code",
   "execution_count": 34,
   "metadata": {},
   "outputs": [
    {
     "name": "stdout",
     "output_type": "stream",
     "text": [
      "222222222111111110 12193263233043742333485748112635269 1.2499999786250002 24691356135802468\n"
     ]
    }
   ],
   "source": [
    "a=int(input(\"first number\"))\n",
    "b=int(input(\"secend number\"))\n",
    "c=(a+b)\n",
    "d=(a*b)\n",
    "e=(a/b)\n",
    "f=(a-b)\n",
    "print(c,d,e,f)"
   ]
  },
  {
   "cell_type": "code",
   "execution_count": 40,
   "metadata": {},
   "outputs": [
    {
     "name": "stdout",
     "output_type": "stream",
     "text": [
      "246.0 0.0 15129.0 1.0\n"
     ]
    }
   ],
   "source": [
    "h=float(input(\"number 1\"))\n",
    "j=float(input(\"number 2\"))\n",
    "p=(h+j)\n",
    "l=(h-j)\n",
    "o=(h*j)\n",
    "u=(h/j)\n",
    "print(p,l,o,u)"
   ]
  }
 ],
 "metadata": {
  "kernelspec": {
   "display_name": "Python 3",
   "language": "python",
   "name": "python3"
  },
  "language_info": {
   "codemirror_mode": {
    "name": "ipython",
    "version": 3
   },
   "file_extension": ".py",
   "mimetype": "text/x-python",
   "name": "python",
   "nbconvert_exporter": "python",
   "pygments_lexer": "ipython3",
   "version": "3.11.9"
  }
 },
 "nbformat": 4,
 "nbformat_minor": 2
}
