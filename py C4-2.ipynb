{
 "cells": [
  {
   "cell_type": "code",
   "execution_count": 3,
   "metadata": {},
   "outputs": [
    {
     "name": "stdout",
     "output_type": "stream",
     "text": [
      "{'3', '2', '7', '9', '4', '6', '5', '10', '8', '1'}\n",
      "{'3', '2', '21', '9', '4', '11', '31', '5', '1'}\n",
      "{'3', '2', '7', '4', '8', '1', '21', '9', '11', '31', '6', '5', '10'}\n",
      "{'3', '2', '9', '4', '5', '1'}\n"
     ]
    }
   ],
   "source": [
    "n =int(input(\"number of a:\"))\n",
    "a=set()\n",
    "for i in range(n):\n",
    "    #element = عنصر های مجموعه\n",
    "    element =input(f\"a{i+1}\")\n",
    "    a.add(element)\n",
    "\n",
    "m =int(input(\"number of b: \")) \n",
    "b = set()\n",
    "for i in range(m):\n",
    "    #element = عنصر های مجموعه\n",
    "    element =input(f\"b{i+1}\")\n",
    "    b.add(element)\n",
    "\n",
    "union = a.union(b)\n",
    "#union = (a ∪ b)\n",
    "intersection = a.intersection(b)\n",
    "#intersection = (a ∩ b)\n",
    "\n",
    "print(a)\n",
    "print(b)\n",
    "print(union)\n",
    "print(intersection)"
   ]
  }
 ],
 "metadata": {
  "kernelspec": {
   "display_name": "Python 3",
   "language": "python",
   "name": "python3"
  },
  "language_info": {
   "codemirror_mode": {
    "name": "ipython",
    "version": 3
   },
   "file_extension": ".py",
   "mimetype": "text/x-python",
   "name": "python",
   "nbconvert_exporter": "python",
   "pygments_lexer": "ipython3",
   "version": "3.11.9"
  }
 },
 "nbformat": 4,
 "nbformat_minor": 2
}
