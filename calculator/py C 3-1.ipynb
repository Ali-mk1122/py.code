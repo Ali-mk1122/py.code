{
 "cells": [
  {
   "cell_type": "code",
   "execution_count": 2,
   "metadata": {},
   "outputs": [
    {
     "name": "stdout",
     "output_type": "stream",
     "text": [
      "170.0\n"
     ]
    }
   ],
   "source": [
    "def sum(a,b):\n",
    "    c = a+b\n",
    "    return c\n",
    "\n",
    "def sub(o,p):\n",
    "    e = o-p\n",
    "    return e\n",
    "\n",
    "def mul(m,n):\n",
    "    d = m*n\n",
    "    return d\n",
    "\n",
    "def div(f,g):\n",
    "    h = f/g\n",
    "    return h\n",
    "\n",
    "x = float(input(\"number 1\"))\n",
    "y = float(input(\"number 2\"))\n",
    "w = input(\"selection\")\n",
    "\n",
    "while True:\n",
    "   \n",
    "    if w == \"sum\":\n",
    "        print(sum(x,y))\n",
    "        break\n",
    "    elif w == \"sub\":\n",
    "        print(sub(x,y))\n",
    "        break\n",
    "    elif w == \"mul\":\n",
    "        print(mul(x,y))\n",
    "        break\n",
    "    elif w == \"div\":\n",
    "        print(div(x,y))\n",
    "        break\n",
    "    else:\n",
    "        break\n",
    "    "
   ]
  },
  {
   "cell_type": "code",
   "execution_count": 35,
   "metadata": {},
   "outputs": [
    {
     "name": "stdout",
     "output_type": "stream",
     "text": [
      "1.0\n"
     ]
    }
   ],
   "source": [
    "\n",
    "def sin(i):\n",
    "    j=(math.sin(i))\n",
    "    return j\n",
    "def cos(k):\n",
    "    l =(math.cos(k))\n",
    "    return l\n",
    "def tan(o):\n",
    "    k=(math.tan(o))\n",
    "    return k\n",
    "def cot(u):\n",
    "    n=(math.atan(u))\n",
    "    return n\n",
    "\n",
    "import math\n",
    "z =float(input(\"enter number\"))\n",
    "b =math.radians(z)\n",
    "a =input(\"enter selection\")\n",
    "\n",
    "while True:\n",
    "    if  a == \"sin\":\n",
    "        print(sin(b))\n",
    "        break\n",
    "    elif a == \"cos\":\n",
    "        print(cos(b))\n",
    "        break\n",
    "    elif a == \"tan\":\n",
    "        print(tan(b))\n",
    "        break\n",
    "    elif a == \"cot\":\n",
    "        print(cot(b))\n",
    "        break\n",
    "    else:\n",
    "        break"
   ]
  },
  {
   "cell_type": "code",
   "execution_count": 37,
   "metadata": {},
   "outputs": [
    {
     "name": "stdout",
     "output_type": "stream",
     "text": [
      "3628800\n"
     ]
    }
   ],
   "source": [
    "def fac(g):\n",
    "    d=(math.factorial(g))\n",
    "    return d\n",
    "    \n",
    "import math\n",
    "A =int(input(\"enter number\"))\n",
    "B =input(\"enter selection\")\n",
    "\n",
    "while True:\n",
    "    if  B == \"fac\":\n",
    "         print(fac(A)) \n",
    "         break\n",
    "    else:\n",
    "        break\n"
   ]
  }
 ],
 "metadata": {
  "kernelspec": {
   "display_name": "Python 3",
   "language": "python",
   "name": "python3"
  },
  "language_info": {
   "codemirror_mode": {
    "name": "ipython",
    "version": 3
   },
   "file_extension": ".py",
   "mimetype": "text/x-python",
   "name": "python",
   "nbconvert_exporter": "python",
   "pygments_lexer": "ipython3",
   "version": "3.11.9"
  }
 },
 "nbformat": 4,
 "nbformat_minor": 2
}
