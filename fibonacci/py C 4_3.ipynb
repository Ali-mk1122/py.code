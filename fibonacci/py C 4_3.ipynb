{
 "cells": [
  {
   "cell_type": "code",
   "execution_count": 3,
   "metadata": {},
   "outputs": [
    {
     "name": "stdout",
     "output_type": "stream",
     "text": [
      "(0, 1, 1, 2, 3, 5, 8, 13, 21, 34)\n"
     ]
    }
   ],
   "source": [
    "n =int(input(\"enter the number of n fibonacci numbers\"))\n",
    "\n",
    "if n <= 0:\n",
    "    print(\"please enter a number greater than 0 \")\n",
    "else:\n",
    "    fibonacci_sequence = []    \n",
    "\n",
    "for i in range(n):\n",
    "        if i == 0:\n",
    "            fibonacci_sequence.append(0)  \n",
    "        elif i == 1:\n",
    "            fibonacci_sequence.append(1)  \n",
    "        else:\n",
    "            next_number = fibonacci_sequence[i - 1] + fibonacci_sequence[i - 2]\n",
    "            fibonacci_sequence.append(next_number)\n",
    "\n",
    "\n",
    "fibonacci_tuple=tuple(fibonacci_sequence)\n",
    "\n",
    "\n",
    "print(fibonacci_tuple)"
   ]
  }
 ],
 "metadata": {
  "kernelspec": {
   "display_name": "Python 3",
   "language": "python",
   "name": "python3"
  },
  "language_info": {
   "codemirror_mode": {
    "name": "ipython",
    "version": 3
   },
   "file_extension": ".py",
   "mimetype": "text/x-python",
   "name": "python",
   "nbconvert_exporter": "python",
   "pygments_lexer": "ipython3",
   "version": "3.11.9"
  }
 },
 "nbformat": 4,
 "nbformat_minor": 2
}
