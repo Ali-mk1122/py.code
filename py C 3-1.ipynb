{
 "cells": [
  {
   "cell_type": "code",
   "execution_count": 38,
   "metadata": {},
   "outputs": [
    {
     "name": "stdout",
     "output_type": "stream",
     "text": [
      "16.0\n"
     ]
    }
   ],
   "source": [
    "def sum(a,b):\n",
    "    c = a+b\n",
    "    return c\n",
    "\n",
    "def sub(o,p):\n",
    "    e = o-p\n",
    "    return e\n",
    "\n",
    "def mul(m,n):\n",
    "    d = m*n\n",
    "    return d\n",
    "\n",
    "def div(f,g):\n",
    "    h = f/g\n",
    "    return h\n",
    "\n",
    "x = float(input(\"number 1\"))\n",
    "y = float(input(\"number 2\"))\n",
    "w = input(\"selection\")\n",
    "\n",
    "while True:\n",
    "   \n",
    "    if w == \"sum\":\n",
    "        print(sum(x,y))\n",
    "        break\n",
    "    elif w == \"sub\":\n",
    "        print(sub(x,y))\n",
    "        break\n",
    "    elif w == \"mul\":\n",
    "        print(mul(x,y))\n",
    "        break\n",
    "    elif w == \"div\":\n",
    "        print(div(x,y))\n",
    "        break\n",
    "    else:\n",
    "        break\n",
    "    "
   ]
  },
  {
   "cell_type": "code",
   "execution_count": 37,
   "metadata": {},
   "outputs": [
    {
     "name": "stdout",
     "output_type": "stream",
     "text": [
      "90.0\n",
      "0.8939966636005579\n",
      "-0.4480736161291701\n",
      "-1.995200412208242\n"
     ]
    }
   ],
   "source": [
    "import math\n",
    "z =float(input(\"enter number\"))\n",
    "print(z)\n",
    "print(math.sin(z))\n",
    "print(math.cos(z))\n",
    "print(math.tan(z))\n"
   ]
  },
  {
   "cell_type": "code",
   "execution_count": 22,
   "metadata": {},
   "outputs": [
    {
     "name": "stdout",
     "output_type": "stream",
     "text": [
      "-1.995200412208242\n"
     ]
    }
   ],
   "source": [
    "\n",
    "def sin(i):\n",
    "    j=(math.sin(i))\n",
    "    return j\n",
    "\n",
    "def cos(k):\n",
    "    l =(math.cos(k))\n",
    "    return l\n",
    "\n",
    "def tan(o):\n",
    "    k=(math.tan(o))\n",
    "    return k\n",
    "\n",
    "import math\n",
    "z =float(input(\"enter number\"))\n",
    "a =input(\"enter selection\")\n",
    "\n",
    "while True:\n",
    "    if a == \"sin\":\n",
    "        print(sin(z))\n",
    "        break\n",
    "    elif a == \"cos\":\n",
    "        print(cos(z))\n",
    "        break\n",
    "    elif a == \"tan\":\n",
    "        print(tan(z))\n",
    "        break\n",
    "    else:\n",
    "        break"
   ]
  }
 ],
 "metadata": {
  "kernelspec": {
   "display_name": "Python 3",
   "language": "python",
   "name": "python3"
  },
  "language_info": {
   "codemirror_mode": {
    "name": "ipython",
    "version": 3
   },
   "file_extension": ".py",
   "mimetype": "text/x-python",
   "name": "python",
   "nbconvert_exporter": "python",
   "pygments_lexer": "ipython3",
   "version": "3.11.9"
  }
 },
 "nbformat": 4,
 "nbformat_minor": 2
}
