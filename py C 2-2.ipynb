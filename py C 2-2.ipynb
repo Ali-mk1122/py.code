{
 "cells": [
  {
   "cell_type": "code",
   "execution_count": 41,
   "metadata": {},
   "outputs": [
    {
     "name": "stdout",
     "output_type": "stream",
     "text": [
      "[1, 4, 9, 16, 25, 36, 49, 64, 81, 100, 121, 144, 169, 196, 225, 256, 289, 324, 361, 400]\n"
     ]
    }
   ],
   "source": [
    "a=[int(input(\"number 1\"))\n",
    ",int(input(\"number 2\"))\n",
    ",int(input(\"number 3\"))\n",
    ",int(input(\"number 4\"))\n",
    ",int(input(\"number 5\"))\n",
    ",int(input(\"number 6\"))\n",
    ",int(input(\"number 7\"))\n",
    ",int(input(\"number 8\"))\n",
    ",int(input(\"number 9\"))\n",
    ",int(input(\"number 10\"))\n",
    ",int(input(\"number 11\"))\n",
    ",int(input(\"number 12\"))\n",
    ",int(input(\"number 13\"))\n",
    ",int(input(\"number 14\"))\n",
    ",int(input(\"number 15\"))\n",
    ",int(input(\"number 16\"))\n",
    ",int(input(\"number 17\"))\n",
    ",int(input(\"number 18\"))\n",
    ",int(input(\"number 19\"))\n",
    ",int(input(\"number 20\"))\n",
    "]\n",
    "a =[a**2 for a in a]\n",
    "print(a)"
   ]
  }
 ],
 "metadata": {
  "kernelspec": {
   "display_name": "Python 3",
   "language": "python",
   "name": "python3"
  },
  "language_info": {
   "codemirror_mode": {
    "name": "ipython",
    "version": 3
   },
   "file_extension": ".py",
   "mimetype": "text/x-python",
   "name": "python",
   "nbconvert_exporter": "python",
   "pygments_lexer": "ipython3",
   "version": "3.11.9"
  }
 },
 "nbformat": 4,
 "nbformat_minor": 2
}
