{
 "cells": [
  {
   "cell_type": "markdown",
   "metadata": {},
   "source": [
    "body Dictionary"
   ]
  },
  {
   "cell_type": "code",
   "execution_count": 1,
   "metadata": {},
   "outputs": [],
   "source": [
    "a={'head':'سر', 'hair':'مو', 'Forehead':'پیشانی', 'Eye':'چشم', 'Eyebrow':'ابرو', 'Eyelash':'مژه', 'Ear':' گوش',\n",
    "'Nose':' بینی', 'Mouth':'دهان', 'Lip':'لب', 'Tooth':'دندان', 'Tongue':'زبان', 'Chin':'چانه', 'Neck':'گردن',\n",
    "'Shoulder':' شانه', 'arm':'بازو', 'Elbow':'آرنج', 'Wrist':' مچ دست', 'Hand':'دست', 'Finger':'انگشت',\n",
    "'Thumb':'شست', 'Chest':'سینه', 'Abdomen':'شکم', 'Back':'کمر', 'Waist':'کمر (نقطه باریک', 'Hip':'لگن',\n",
    "'Leg':'پا', 'Knee':'زانو', 'Ankle':'مچ پا', 'Foot':'پا (کف پا)', 'Toe':'انگشت پا', 'Skin':'پوست',\n",
    "'Bone':'استخوان', 'Muscle':'عضله', 'Heart':'قلب', 'Lung':'ریه', 'Liver':'کبد', 'Kidney':'کلیه',\n",
    "'Stomach':'معده', 'Intestine':'روده', 'Bladder':'مثانه', 'Brain':'مغز', 'Nerve':'عصب', 'Vein':'سیاهرگ',\n",
    "'Artery':'سرخرگ', 'Blood':'خون', 'Joint':'مفصل', 'Cartilage':'غضروف', 'Spleen':'طحال',\n",
    "'Gallbladder':'کیسه صفرا'}"
   ]
  },
  {
   "cell_type": "code",
   "execution_count": 4,
   "metadata": {},
   "outputs": [
    {
     "name": "stdout",
     "output_type": "stream",
     "text": [
      "سر\n"
     ]
    }
   ],
   "source": [
    "print(a['head'])"
   ]
  }
 ],
 "metadata": {
  "kernelspec": {
   "display_name": "Python 3",
   "language": "python",
   "name": "python3"
  },
  "language_info": {
   "codemirror_mode": {
    "name": "ipython",
    "version": 3
   },
   "file_extension": ".py",
   "mimetype": "text/x-python",
   "name": "python",
   "nbconvert_exporter": "python",
   "pygments_lexer": "ipython3",
   "version": "3.11.9"
  }
 },
 "nbformat": 4,
 "nbformat_minor": 2
}
